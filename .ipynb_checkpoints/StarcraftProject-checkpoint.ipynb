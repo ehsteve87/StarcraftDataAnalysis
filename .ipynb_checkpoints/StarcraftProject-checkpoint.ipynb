{
 "cells": [
  {
   "cell_type": "markdown",
   "id": "f38ddda7",
   "metadata": {
    "extensions": {
     "jupyter_dashboards": {
      "version": 1,
      "views": {
       "grid_default": {},
       "report_default": {
        "hidden": false
       }
      }
     }
    }
   },
   "source": [
    "<h1>Starcraft II Skills Analysis</h1>"
   ]
  },
  {
   "cell_type": "markdown",
   "id": "ad73ba26",
   "metadata": {
    "extensions": {
     "jupyter_dashboards": {
      "version": 1,
      "views": {
       "grid_default": {},
       "report_default": {
        "hidden": false
       }
      }
     }
    }
   },
   "source": [
    "<h2>Predict</h2>"
   ]
  },
  {
   "cell_type": "code",
   "execution_count": 1,
   "id": "bc485020",
   "metadata": {
    "extensions": {
     "jupyter_dashboards": {
      "version": 1,
      "views": {
       "grid_default": {},
       "report_default": {
        "hidden": true
       }
      }
     }
    }
   },
   "outputs": [],
   "source": [
    "import pandas as pd\n",
    "import numpy as np\n",
    "import seaborn as sns\n",
    "import matplotlib.pyplot as plt"
   ]
  },
  {
   "cell_type": "code",
   "execution_count": 2,
   "id": "272b50ce",
   "metadata": {
    "extensions": {
     "jupyter_dashboards": {
      "version": 1,
      "views": {
       "grid_default": {},
       "report_default": {
        "hidden": true
       }
      }
     }
    }
   },
   "outputs": [],
   "source": [
    "# Import data set\n",
    "sc_data = pd.read_csv(r\"./SkillCraft.csv\")\n",
    "league_distribution = pd.read_csv(r\"./LeagueDistribution.csv\")"
   ]
  },
  {
   "cell_type": "code",
   "execution_count": 3,
   "id": "3ddf8c23",
   "metadata": {
    "extensions": {
     "jupyter_dashboards": {
      "version": 1,
      "views": {
       "grid_default": {},
       "report_default": {
        "hidden": true
       }
      }
     }
    }
   },
   "outputs": [],
   "source": [
    "# Define independent and dependent variables\n",
    "y = sc_data['League Index']\n",
    "x = sc_data[['Age', 'Hours Per Week', 'APM', 'Unique Hotkeys', \n",
    "             'Workers Made Per Minute', 'Unique Units Made']]"
   ]
  },
  {
   "cell_type": "code",
   "execution_count": 4,
   "id": "79ecd67a",
   "metadata": {
    "extensions": {
     "jupyter_dashboards": {
      "version": 1,
      "views": {
       "grid_default": {},
       "report_default": {
        "hidden": true
       }
      }
     }
    }
   },
   "outputs": [],
   "source": [
    "# Divide data into training and testing sets\n",
    "from sklearn.model_selection import train_test_split\n",
    "x_train, x_test, y_train, y_test = train_test_split(x, y, test_size=0.2)"
   ]
  },
  {
   "cell_type": "code",
   "execution_count": 5,
   "id": "25de6d6c",
   "metadata": {
    "extensions": {
     "jupyter_dashboards": {
      "version": 1,
      "views": {
       "grid_default": {},
       "report_default": {
        "hidden": true
       }
      }
     }
    }
   },
   "outputs": [],
   "source": [
    "# Train the model\n",
    "from sklearn.linear_model import LinearRegression\n",
    "regressor = LinearRegression(fit_intercept = True)\n",
    "regressor.fit(x_train, y_train);"
   ]
  },
  {
   "cell_type": "code",
   "execution_count": 6,
   "id": "ff4e53da",
   "metadata": {
    "extensions": {
     "jupyter_dashboards": {
      "version": 1,
      "views": {
       "grid_default": {},
       "report_default": {
        "hidden": true
       }
      }
     }
    }
   },
   "outputs": [],
   "source": [
    "# Test the model\n",
    "from sklearn.metrics import r2_score, mean_absolute_error, mean_squared_error\n",
    "from math import sqrt\n",
    "y_predict = regressor.predict(x_test)\n",
    "k = x_test.shape[1]\n",
    "n = len(x_test)"
   ]
  },
  {
   "cell_type": "code",
   "execution_count": 7,
   "id": "9508022a",
   "metadata": {
    "extensions": {
     "jupyter_dashboards": {
      "version": 1,
      "views": {
       "grid_default": {},
       "report_default": {
        "hidden": true
       }
      }
     }
    }
   },
   "outputs": [],
   "source": [
    "# Trying my hand at an individual prediction\n",
    "player_1625 = [[17, 28, 97.5852, 5, 1.707059, 8]]\n",
    "prediction = regressor.predict(player_1625)"
   ]
  },
  {
   "cell_type": "markdown",
   "id": "e50f3452",
   "metadata": {
    "extensions": {
     "jupyter_dashboards": {
      "version": 1,
      "views": {
       "grid_default": {},
       "report_default": {
        "hidden": false
       }
      }
     }
    }
   },
   "source": [
    "Use the sliders to input a player's value for each attribute, then click the button to predict their league."
   ]
  },
  {
   "cell_type": "code",
   "execution_count": 8,
   "id": "733aff20",
   "metadata": {
    "extensions": {
     "jupyter_dashboards": {
      "version": 1,
      "views": {
       "grid_default": {},
       "report_default": {
        "hidden": false
       }
      }
     }
    }
   },
   "outputs": [
    {
     "data": {
      "application/vnd.jupyter.widget-view+json": {
       "model_id": "c54f3c1cdb39419da86709a12afa3d73",
       "version_major": 2,
       "version_minor": 0
      },
      "text/plain": [
       "HBox(children=(VBox(children=(Label(value='Age', layout=Layout(display='flex', justify_content='flex-end')), L…"
      ]
     },
     "metadata": {},
     "output_type": "display_data"
    }
   ],
   "source": [
    "import ipywidgets as widgets\n",
    "from ipywidgets import HBox, VBox, Label, Layout\n",
    "from IPython.display import display\n",
    "\n",
    "age_slider = widgets.IntSlider(\n",
    "    min=15,\n",
    "    max=100,\n",
    "    step=1,\n",
    "    value=20\n",
    ")\n",
    "\n",
    "hours_slider = widgets.IntSlider(\n",
    "    min=0,\n",
    "    max=100,\n",
    "    step=1,\n",
    "    value=15\n",
    ")\n",
    "\n",
    "apm_slider = widgets.IntSlider(\n",
    "    min=0,\n",
    "    max=100,\n",
    "    step=1,\n",
    "    value=60\n",
    ")\n",
    "\n",
    "unique_hotkeys = widgets.IntSlider(\n",
    "    min=0,\n",
    "    max=10,\n",
    "    step=1,\n",
    "    value=4\n",
    ")\n",
    "\n",
    "\n",
    "workers_made_per_minute = widgets.IntSlider(\n",
    "    min=0,\n",
    "    max=15,\n",
    "    step=1,\n",
    "    value=4\n",
    ")\n",
    "\n",
    "unique_units = widgets.IntSlider(\n",
    "    min=1,\n",
    "    max=13,\n",
    "    step=1,\n",
    "    value=5\n",
    ")\n",
    "\n",
    "col_1=VBox([Label('Age', layout=Layout(display=\"flex\", justify_content=\"flex-end\")), \n",
    "            Label('Hours Played Per Week', layout=Layout(display=\"flex\", justify_content=\"flex-end\")), \n",
    "            Label('APM', layout=Layout(display=\"flex\", justify_content=\"flex-end\")), \n",
    "            Label('Unique Hotkeys', layout=Layout(display=\"flex\", justify_content=\"flex-end\")),  \n",
    "            Label('Workers Made Per Minute', layout=Layout(display=\"flex\", justify_content=\"flex-end\")), \n",
    "            Label('Unique Units Made', layout=Layout(display=\"flex\", justify_content=\"flex-end\"))])\n",
    "\n",
    "col_2=VBox([age_slider, hours_slider, apm_slider, unique_hotkeys, workers_made_per_minute, unique_units])\n",
    "\n",
    "grid = HBox([col_1, col_2])\n",
    "\n",
    "display(grid)\n"
   ]
  },
  {
   "cell_type": "code",
   "execution_count": 9,
   "id": "2a4e6929",
   "metadata": {
    "extensions": {
     "jupyter_dashboards": {
      "version": 1,
      "views": {
       "grid_default": {},
       "report_default": {
        "hidden": false
       }
      }
     }
    }
   },
   "outputs": [
    {
     "data": {
      "application/vnd.jupyter.widget-view+json": {
       "model_id": "189eec74622d439c87048adfd51626c3",
       "version_major": 2,
       "version_minor": 0
      },
      "text/plain": [
       "Button(description='Predict League', style=ButtonStyle())"
      ]
     },
     "metadata": {},
     "output_type": "display_data"
    },
    {
     "data": {
      "application/vnd.jupyter.widget-view+json": {
       "model_id": "d75345869ad64b3daecbbfdcf60b3592",
       "version_major": 2,
       "version_minor": 0
      },
      "text/plain": [
       "Output()"
      ]
     },
     "metadata": {},
     "output_type": "display_data"
    }
   ],
   "source": [
    "prediction_value = regressor.predict([[age_slider.value, hours_slider.value, apm_slider.value,\n",
    "                                      unique_hotkeys.value, workers_made_per_minute.value, unique_units.value]])\n",
    "\n",
    "rounded_value = round(prediction_value[0])\n",
    "\n",
    "def get_league(num):\n",
    "    if num <= 1:\n",
    "        return \"Bronze\"\n",
    "    elif num == 2:\n",
    "        return \"Silver\"\n",
    "    elif num == 3:\n",
    "        return \"Gold\"\n",
    "    elif num == 4:\n",
    "        return \"Platinum\"\n",
    "    elif num == 5:\n",
    "        return \"Diamond\"\n",
    "    elif num >= 6:\n",
    "        return \"Master\"\n",
    "\n",
    "output_league = widgets.Output()\n",
    "\n",
    "def button_handler(obj):\n",
    "    prediction_value = regressor.predict([[age_slider.value, hours_slider.value, apm_slider.value,\n",
    "                                      unique_hotkeys.value, workers_made_per_minute.value, unique_units.value]])\n",
    "    rounded_value = round(prediction_value[0])\n",
    "    output_league.clear_output()\n",
    "    with output_league:\n",
    "        prediction_label = widgets.Label(\"A player with these numbers is likely in \" + get_league(rounded_value) + \" League.\")\n",
    "        display(prediction_label)\n",
    "    \n",
    "btn_predict = widgets.Button(description='Predict League')\n",
    "display(btn_predict)\n",
    "btn_predict.on_click(button_handler)\n",
    "display(output_league)\n"
   ]
  },
  {
   "cell_type": "markdown",
   "id": "0031eac4",
   "metadata": {
    "extensions": {
     "jupyter_dashboards": {
      "version": 1,
      "views": {
       "grid_default": {},
       "report_default": {
        "hidden": false
       }
      }
     }
    }
   },
   "source": [
    "<h2>Graphs</h2>"
   ]
  },
  {
   "cell_type": "code",
   "execution_count": 10,
   "id": "83e75620",
   "metadata": {
    "extensions": {
     "jupyter_dashboards": {
      "version": 1,
      "views": {
       "grid_default": {},
       "report_default": {
        "hidden": false
       }
      }
     }
    }
   },
   "outputs": [],
   "source": [
    "import pandas as pd\n",
    "import numpy as np\n",
    "import seaborn as sns\n",
    "import matplotlib\n",
    "sc_data = pd.read_csv(r\"./SkillCraft.csv\")\n",
    "\n",
    "league_colors={\"Bronze\": \"DarkGoldenRod\", \"Silver\":\"DarkGrey\", \"Gold\":\"Gold\", \n",
    "               \"Platinum\":\"SkyBlue\", \"Diamond\":\"RoyalBlue\", \"Master\":\"MediumOrchid\"}"
   ]
  },
  {
   "cell_type": "markdown",
   "id": "83626eb5",
   "metadata": {
    "extensions": {
     "jupyter_dashboards": {
      "version": 1,
      "views": {
       "grid_default": {},
       "report_default": {
        "hidden": false
       }
      }
     }
    }
   },
   "source": [
    "<b>Age</b>"
   ]
  },
  {
   "cell_type": "code",
   "execution_count": 11,
   "id": "713b50b0",
   "metadata": {
    "extensions": {
     "jupyter_dashboards": {
      "version": 1,
      "views": {
       "grid_default": {},
       "report_default": {
        "hidden": false
       }
      }
     }
    }
   },
   "outputs": [
    {
     "data": {
      "image/png": "[encoded data removed]",
      "text/plain": [
       "<Figure size 432x288 with 1 Axes>"
      ]
     },
     "metadata": {
      "needs_background": "light"
     },
     "output_type": "display_data"
    }
   ],
   "source": [
    "sns.boxplot(x='League Name', y=\"Age\", data=sc_data, palette=league_colors, showfliers = False);"
   ]
  },
  {
   "cell_type": "markdown",
   "id": "2224ec92",
   "metadata": {
    "extensions": {
     "jupyter_dashboards": {
      "version": 1,
      "views": {
       "grid_default": {},
       "report_default": {
        "hidden": false
       }
      }
     }
    }
   },
   "source": [
    "<b>Hours Played Per Week</b>"
   ]
  },
  {
   "cell_type": "code",
   "execution_count": 12,
   "id": "883b633a",
   "metadata": {
    "extensions": {
     "jupyter_dashboards": {
      "version": 1,
      "views": {
       "grid_default": {},
       "report_default": {
        "hidden": false
       }
      }
     }
    }
   },
   "outputs": [
    {
     "data": {
      "image/png": "[encoded data removed]",
      "text/plain": [
       "<Figure size 432x288 with 1 Axes>"
      ]
     },
     "metadata": {
      "needs_background": "light"
     },
     "output_type": "display_data"
    }
   ],
   "source": [
    "sns.boxplot(x='League Name', y=\"Hours Per Week\", data=sc_data, palette=league_colors, showfliers = False);"
   ]
  },
  {
   "cell_type": "markdown",
   "id": "008a553f",
   "metadata": {
    "extensions": {
     "jupyter_dashboards": {
      "version": 1,
      "views": {
       "grid_default": {},
       "report_default": {
        "hidden": false
       }
      }
     }
    }
   },
   "source": [
    "<b>APM</b>"
   ]
  },
  {
   "cell_type": "code",
   "execution_count": 13,
   "id": "c1eab685",
   "metadata": {
    "extensions": {
     "jupyter_dashboards": {
      "version": 1,
      "views": {
       "grid_default": {},
       "report_default": {
        "hidden": false
       }
      }
     }
    }
   },
   "outputs": [
    {
     "data": {
      "image/png": "[encoded data removed]",
      "text/plain": [
       "<Figure size 432x288 with 1 Axes>"
      ]
     },
     "metadata": {
      "needs_background": "light"
     },
     "output_type": "display_data"
    }
   ],
   "source": [
    "sns.boxplot(x='League Name', y=\"APM\", data=sc_data, palette=league_colors, showfliers = False);"
   ]
  },
  {
   "cell_type": "markdown",
   "id": "e3e0a783",
   "metadata": {
    "extensions": {
     "jupyter_dashboards": {
      "version": 1,
      "views": {
       "grid_default": {},
       "report_default": {
        "hidden": false
       }
      }
     }
    }
   },
   "source": [
    "<b>Unique Hotkeys</b>"
   ]
  },
  {
   "cell_type": "code",
   "execution_count": 14,
   "id": "a1b18692",
   "metadata": {
    "extensions": {
     "jupyter_dashboards": {
      "version": 1,
      "views": {
       "grid_default": {},
       "report_default": {
        "hidden": false
       }
      }
     }
    }
   },
   "outputs": [
    {
     "data": {
      "image/png": "[encoded data removed]",
      "text/plain": [
       "<Figure size 432x288 with 1 Axes>"
      ]
     },
     "metadata": {
      "needs_background": "light"
     },
     "output_type": "display_data"
    }
   ],
   "source": [
    "sns.boxplot(x='League Name', y=\"Unique Hotkeys\", data=sc_data, palette=league_colors, showfliers = False);"
   ]
  },
  {
   "cell_type": "markdown",
   "id": "bb85fa21",
   "metadata": {
    "extensions": {
     "jupyter_dashboards": {
      "version": 1,
      "views": {
       "grid_default": {},
       "report_default": {
        "hidden": false
       }
      }
     }
    }
   },
   "source": [
    "<b>Workers Made Per Minute</b>"
   ]
  },
  {
   "cell_type": "code",
   "execution_count": 15,
   "id": "23e3aa10",
   "metadata": {
    "extensions": {
     "jupyter_dashboards": {
      "version": 1,
      "views": {
       "grid_default": {},
       "report_default": {
        "hidden": false
       }
      }
     }
    }
   },
   "outputs": [
    {
     "data": {
      "image/png": "[encoded data removed]",
      "text/plain": [
       "<Figure size 432x288 with 1 Axes>"
      ]
     },
     "metadata": {
      "needs_background": "light"
     },
     "output_type": "display_data"
    }
   ],
   "source": [
    "sns.boxplot(x='League Name', y=\"Workers Made Per Minute\", data=sc_data, palette=league_colors, showfliers = False);"
   ]
  },
  {
   "cell_type": "markdown",
   "id": "6e1a8956",
   "metadata": {
    "extensions": {
     "jupyter_dashboards": {
      "version": 1,
      "views": {
       "grid_default": {},
       "report_default": {
        "hidden": false
       }
      }
     }
    }
   },
   "source": [
    "<b>Unique Units Made</b>"
   ]
  },
  {
   "cell_type": "code",
   "execution_count": 16,
   "id": "fba26cb1",
   "metadata": {
    "extensions": {
     "jupyter_dashboards": {
      "version": 1,
      "views": {
       "grid_default": {},
       "report_default": {
        "hidden": false
       }
      }
     }
    }
   },
   "outputs": [
    {
     "data": {
      "image/png": "[encoded data removed]",
      "text/plain": [
       "<Figure size 432x288 with 1 Axes>"
      ]
     },
     "metadata": {
      "needs_background": "light"
     },
     "output_type": "display_data"
    }
   ],
   "source": [
    "sns.boxplot(x='League Name', y=\"Unique Units Made\", data=sc_data, palette=league_colors, showfliers = False);"
   ]
  },
  {
   "cell_type": "markdown",
   "id": "6a3da3ab",
   "metadata": {
    "extensions": {
     "jupyter_dashboards": {
      "version": 1,
      "views": {
       "grid_default": {},
       "report_default": {
        "hidden": false
       }
      }
     }
    }
   },
   "source": [
    "<b>League Distribution in Dataset</b>"
   ]
  },
  {
   "cell_type": "code",
   "execution_count": 17,
   "id": "2df218aa",
   "metadata": {
    "extensions": {
     "jupyter_dashboards": {
      "version": 1,
      "views": {
       "grid_default": {},
       "report_default": {
        "hidden": false
       }
      }
     }
    }
   },
   "outputs": [
    {
     "data": {
      "image/png": "[encoded data removed]",
      "text/plain": [
       "<Figure size 432x288 with 1 Axes>"
      ]
     },
     "metadata": {
      "needs_background": "light"
     },
     "output_type": "display_data"
    }
   ],
   "source": [
    "leagues = league_distribution['League']\n",
    "count = league_distribution['Games in Dataset']\n",
    "\n",
    "sns.barplot(x=leagues, y=count);\n",
    "plt.show()"
   ]
  },
  {
   "cell_type": "markdown",
   "id": "4653ef8d",
   "metadata": {
    "extensions": {
     "jupyter_dashboards": {
      "version": 1,
      "views": {
       "grid_default": {},
       "report_default": {
        "hidden": true
       }
      }
     }
    }
   },
   "source": [
    "<h2>Statistics</h2>"
   ]
  },
  {
   "cell_type": "code",
   "execution_count": 18,
   "id": "75bdb9ff",
   "metadata": {
    "extensions": {
     "jupyter_dashboards": {
      "version": 1,
      "views": {
       "grid_default": {},
       "report_default": {
        "hidden": true
       }
      }
     }
    }
   },
   "outputs": [
    {
     "name": "stdout",
     "output_type": "stream",
     "text": [
      "Root Mean Square Error =  1.143 \n",
      "Mean Squared Error =  1.30627638483008 \n",
      "R squared =  0.41048198053293306 \n",
      "Adjusted R squared =  0.4050652759130213 \n",
      "Mean Absolute Percentage Error =  35.005100517327584\n"
     ]
    }
   ],
   "source": [
    "RSME = float(format(np.sqrt(mean_squared_error(y_test, y_predict)), '.3f'))\n",
    "MSE = mean_squared_error(y_test, y_predict)\n",
    "MAE = mean_absolute_error(y_test, y_predict)\n",
    "r_squared = r2_score(y_test, y_predict)\n",
    "adj_r_squared = 1 - (1 - r_squared) * (n - 1)/(n-k-1)\n",
    "mean_absolute_percentage_error = np.mean(np.abs((y_test-y_predict)/y_test))*100\n",
    "print('Root Mean Square Error = ', RSME, '\\nMean Squared Error = ', MSE, \"\\nR squared = \", r_squared, \n",
    "      \"\\nAdjusted R squared = \", adj_r_squared, '\\nMean Absolute Percentage Error = ', mean_absolute_percentage_error)"
   ]
  },
  {
   "cell_type": "code",
   "execution_count": null,
   "id": "78ac339b",
   "metadata": {
    "extensions": {
     "jupyter_dashboards": {
      "version": 1,
      "views": {
       "grid_default": {},
       "report_default": {
        "hidden": true
       }
      }
     }
    }
   },
   "outputs": [],
   "source": []
  },
  {
   "cell_type": "code",
   "execution_count": null,
   "id": "7a70c19f",
   "metadata": {
    "extensions": {
     "jupyter_dashboards": {
      "version": 1,
      "views": {
       "grid_default": {},
       "report_default": {
        "hidden": true
       }
      }
     }
    }
   },
   "outputs": [],
   "source": []
  },
  {
   "cell_type": "code",
   "execution_count": null,
   "id": "ee4fc2de",
   "metadata": {
    "extensions": {
     "jupyter_dashboards": {
      "version": 1,
      "views": {
       "grid_default": {},
       "report_default": {
        "hidden": true
       }
      }
     }
    }
   },
   "outputs": [],
   "source": []
  }
 ],
 "metadata": {
  "extensions": {
   "jupyter_dashboards": {
    "activeView": "report_default",
    "version": 1,
    "views": {
     "grid_default": {
      "cellMargin": 10,
      "defaultCellHeight": 20,
      "maxColumns": 12,
      "name": "grid",
      "type": "grid"
     },
     "report_default": {
      "name": "report",
      "type": "report"
     }
    }
   }
  },
  "kernelspec": {
   "display_name": "Python 3 (ipykernel)",
   "language": "python",
   "name": "python3"
  },
  "language_info": {
   "codemirror_mode": {
    "name": "ipython",
    "version": 3
   },
   "file_extension": ".py",
   "mimetype": "text/x-python",
   "name": "python",
   "nbconvert_exporter": "python",
   "pygments_lexer": "ipython3",
   "version": "3.9.7"
  }
 },
 "nbformat": 4,
 "nbformat_minor": 5
}
